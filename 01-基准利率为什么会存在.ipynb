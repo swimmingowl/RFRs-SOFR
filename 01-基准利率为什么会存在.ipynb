{
 "cells": [
  {
   "attachments": {},
   "cell_type": "markdown",
   "metadata": {},
   "source": [
    "# 市场基准利率为什么会存在"
   ]
  },
  {
   "attachments": {},
   "cell_type": "markdown",
   "metadata": {},
   "source": [
    "### （一）利率为什么会存在\n",
    "\n",
    "为了了解市场基准利率为什么会存在我们先了解一下利率为什么会存在。\n",
    "\n",
    "钱代表的是可支配的资源，我们就假设代表的是一架马车好了，如果我将这架马车放在自己家里，那他可以不产生利息。\n",
    "\n",
    "但如果我把这辆马车借给你，你用这架马车赚到了钱，分我一点不过分吧？分的部分就是利息。"
   ]
  },
  {
   "attachments": {},
   "cell_type": "markdown",
   "metadata": {},
   "source": [
    "### （二）利率应该如何确定\n",
    "\n",
    "既然利率一定要存在，那么利率确定为多少是合适的呢？\n",
    "\n",
    "第一种方法是买卖双方协商，这种方式主要问题在于买卖双方信息不一定完全对等，都会怀疑自己是不是吃亏了，如果怀疑自己是不是吃亏了，可能就不会借出去了，这时全市场的交易量就会下滑。\n",
    "\n",
    "第二种方法是由权威机构发布利率，买卖双方如果都认可这家机构，就会按照这个利率进行交易，这也就是我们所说的基准利率"
   ]
  },
  {
   "attachments": {},
   "cell_type": "markdown",
   "metadata": {},
   "source": [
    "### （三）基准利率本质上是什么\n",
    "\n",
    "买卖双方都认可的利率才能算作是基准利率，本质上代表了利率发布人的信用。\n",
    "\n",
    "信息发布人基于自己所能获取的信息，通过某些发布人认为合理的计算方式，形成的利率被市场称作为基准利率。"
   ]
  },
  {
   "attachments": {},
   "cell_type": "markdown",
   "metadata": {},
   "source": [
    "### （四）基准利率分为两种\n",
    "\n",
    "第一种是中央银行公布的基准利率，也叫政策利率，中央银行一般会通过公开市场操作等方式，将市场利率引导至政策利率的水平。\n",
    "\n",
    "第二种是市场自发形成的基准利率，这类基准利率的生成方式主要有两种，一是交易所根据市场交易行情生成的利率，二是根据市场主要参与者报价形成的市场利率。\n",
    "\n",
    "第一种是中央银行认为的合理利率水平，第二种是市场认为的合理利率水平。"
   ]
  },
  {
   "attachments": {},
   "cell_type": "markdown",
   "metadata": {},
   "source": [
    "### （五）基准利率为什么会存在\n",
    "\n",
    "综上，基准利率存在是为了给买卖双方提供一个合意价格，提高市场交易意愿。"
   ]
  },
  {
   "cell_type": "markdown",
   "metadata": {},
   "source": []
  }
 ],
 "metadata": {
  "kernelspec": {
   "display_name": "Python 3 (ipykernel)",
   "language": "python",
   "name": "python3"
  },
  "language_info": {
   "codemirror_mode": {
    "name": "ipython",
    "version": 3
   },
   "file_extension": ".py",
   "mimetype": "text/x-python",
   "name": "python",
   "nbconvert_exporter": "python",
   "pygments_lexer": "ipython3",
   "version": "3.9.13"
  }
 },
 "nbformat": 4,
 "nbformat_minor": 4
}
