{
 "cells": [
  {
   "attachments": {},
   "cell_type": "markdown",
   "metadata": {
    "button": false,
    "new_sheet": false,
    "run_control": {
     "read_only": false
    }
   },
   "source": [
    "# 市场基准利率参考链接，持续更新中"
   ]
  },
  {
   "attachments": {},
   "cell_type": "markdown",
   "metadata": {
    "button": false,
    "new_sheet": false,
    "run_control": {
     "read_only": false
    }
   },
   "source": [
    "Reference:\n",
    "\n",
    "ARRC: https://www.newyorkfed.org/arrc\n",
    "\n",
    "Federal Reserve Bank of New York: https://www.newyorkfed.org/\n",
    "\n",
    "IOSCO: https://www.iosco.org/\n",
    "\n",
    "ICE LIBOR: https://www.theice.com/iba/libor\n",
    "\n",
    "Office of Financial Research: https://www.financialresearch.gov/\n",
    "\n",
    "Principles for Financial Benchmarks: https://www.iosco.org/library/pubdocs/pdf/IOSCOPD415.pdf\n",
    "\n",
    "An Updated User’s Guide to SOFR: https://www.newyorkfed.org/medialibrary/Microsites/arrc/files/2021/users-guide-to-sofr2021-update.pdf\n",
    "\n",
    "FRBNY SOFR Calculation: https://www.newyorkfed.org/markets/reference-rates/additional-information-about-reference-rates#effr_obfr_primary_data_inputs\n",
    "\n",
    "USD LIBOR Methodology: https://www.theice.com/publicdocs/USD_LIBOR_Methodology.pdf\n",
    "\n",
    "LIBOR Scandal: https://archive.nytimes.com/www.nytimes.com/interactive/2012/07/10/business/dealbook/behind-the-libor-scandal.html?_r=0\n",
    "\n",
    "USD LIBOR OUTPUT STATEMENT: https://www.theice.com/publicdocs/USD_LIBOR_Output_Statement.pdf\n",
    "\n",
    "USD LIBOR Reduced Submission Policy: https://www.theice.com/publicdocs/USD_LIBOR_Output_Statement.pdf\n",
    "\n",
    "Overnight Bank Funding Volume: https://alfred.stlouisfed.org/series?seid=OBFRVOL&utm_source=series_page&utm_medium=related_content&utm_term=related_resources&utm_campaign=alfred\n",
    "\n",
    "Effective Federal Funds Volume: https://fred.stlouisfed.org/series/EFFRVOL\n",
    "\n",
    "OFR Short-term Funding Monitor: https://www.financialresearch.gov/short-term-funding-monitor/\n",
    "\n",
    "Tri-Party/GCF Repo: https://www.newyorkfed.org/data-and-statistics/data-visualization/tri-party-repo/index.html"
   ]
  },
  {
   "cell_type": "markdown",
   "metadata": {},
   "source": [
    "[Next Page](./Part.1.B.why.start.from.learning.coding.ipynb)"
   ]
  }
 ],
 "metadata": {
  "kernelspec": {
   "display_name": "Python 3 (ipykernel)",
   "language": "python",
   "name": "python3"
  },
  "language_info": {
   "codemirror_mode": {
    "name": "ipython",
    "version": 3
   },
   "file_extension": ".py",
   "mimetype": "text/x-python",
   "name": "python",
   "nbconvert_exporter": "python",
   "pygments_lexer": "ipython3",
   "version": "3.9.13"
  },
  "nteract": {
   "version": "nteract-on-jupyter@2.0.3"
  }
 },
 "nbformat": 4,
 "nbformat_minor": 4
}
